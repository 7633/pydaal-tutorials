{
 "cells": [
  {
   "cell_type": "markdown",
   "metadata": {},
   "source": [
    "# Handwritten Digits Recognition Example with SVM using Intel DAAL"
   ]
  },
  {
   "cell_type": "markdown",
   "metadata": {},
   "source": [
    "This lab is based on a [scikit-learn tutorial](http://scikit-learn.org/stable/auto_examples/classification/plot_digits_classification.html) on the same subject."
   ]
  },
  {
   "cell_type": "code",
   "execution_count": 1,
   "metadata": {
    "collapsed": false
   },
   "outputs": [],
   "source": [
    "%matplotlib inline "
   ]
  },
  {
   "cell_type": "code",
   "execution_count": 2,
   "metadata": {
    "collapsed": true
   },
   "outputs": [],
   "source": [
    "# Intel DAAL related imports\n",
    "from daal.data_management import HomogenNumericTable\n",
    "from daal.algorithms.kernel_function import linear, rbf\n",
    "\n",
    "# Import DAAL implementation of multi-class classifier based on SVM \n",
    "from svm_multi_class import * # See svm_multi_class.py\n",
    "\n",
    "# Import quality metrics calculation module  \n",
    "from quality_metrics import * # see quality_metrics.py\n",
    "# Helpers \n",
    "from utils import *\n",
    "\n",
    "# Import numpy, sklearn, matplotlib, seaborn\n",
    "import numpy as np\n",
    "from sklearn.datasets import load_digits\n",
    "import matplotlib.pyplot as plt\n",
    "import seaborn as sns\n",
    "\n",
    "# Plotting configurations\n",
    "plt.rcParams['figure.figsize'] = (12, 8)\n",
    "%config InlineBackend.figure_format = 'retina'\n",
    "sns.set()"
   ]
  },
  {
   "cell_type": "markdown",
   "metadata": {},
   "source": [
    "## Load dataset\n",
    "\n",
    "Scikit-learn is bundled with some toy datasets. These datasets are available through [sklearn.datasets](http://scikit-learn.org/stable/datasets). The [load_digits](http://scikit-learn.org/stable/modules/generated/sklearn.datasets.load_digits.html#sklearn.datasets.load_digits) method loads and returns the digits dataset. Because the dataset internally uses NumPy ndarray to store information, we can convert it to Intel DAAL numeric tables, and pass them to Intel DAAL algorithms. \n",
    "\n",
    "After loading the data, we take a quick look at the sizes and dimensions. There are 1797 samples (i.e. images of handwritten digits) in the dataset, and each sample has 64 features. Note that the images are stored in `digits.data` and the corresponding labels are stored in `digits.target`."
   ]
  },
  {
   "cell_type": "code",
   "execution_count": 3,
   "metadata": {
    "collapsed": false
   },
   "outputs": [
    {
     "name": "stdout",
     "output_type": "stream",
     "text": [
      "(1797, 64)\n",
      "(1797,)\n"
     ]
    }
   ],
   "source": [
    "digits = load_digits()\n",
    "print(digits.data.shape)\n",
    "print(digits.target.shape)"
   ]
  },
  {
   "cell_type": "markdown",
   "metadata": {},
   "source": [
    "## Visualize dataset\n",
    "We can visualize the first 10 images. The code below is directly copied from the scikit-learn tutorial:"
   ]
  },
  {
   "cell_type": "code",
   "execution_count": 4,
   "metadata": {
    "collapsed": false
   },
   "outputs": [
    {
     "data": {
      "image/png": "[encoded data removed]",
      "text/plain": [
       "<matplotlib.figure.Figure at 0x4b80773e10>"
      ]
     },
     "metadata": {
      "image/png": {
       "height": 289,
       "width": 473
      }
     },
     "output_type": "display_data"
    }
   ],
   "source": [
    "images_and_labels = list(zip(digits.images[:10], digits.target[:10]))\n",
    "for index, (image, label) in enumerate(images_and_labels):\n",
    "    plt.subplot(2, 5, index + 1)\n",
    "    plt.axis('off')\n",
    "    plt.imshow(image, cmap=plt.cm.gray_r, interpolation='nearest')\n",
    "    plt.title('Training: %i' % label)"
   ]
  },
  {
   "cell_type": "markdown",
   "metadata": {},
   "source": [
    "## Data preparation\n",
    "We save the last 20 samples from the dataset for testing, and use the rest to train a model.\n",
    "\n",
    "As described above, images and the corresponding labels are accessible in `digits.data` and `digits.target`, respectively. The code below creates four Intel DAAL numeric tables, for `training_data`, `training_labels`, `test_data`, and `test_labels`."
   ]
  },
  {
   "cell_type": "code",
   "execution_count": 5,
   "metadata": {
    "collapsed": false
   },
   "outputs": [],
   "source": [
    "# Split the data into training data and labels, and create numeric tables\n",
    "nsamples = len(digits.images)\n",
    "training_data = HomogenNumericTable(digits.data[:-20, :].astype(dtype=np.double))\n",
    "training_labels = HomogenNumericTable(digits.target[:-20, np.newaxis].astype(dtype=np.double))\n",
    "\n",
    "# Split the data into testing data and labels, and create numeric tables\n",
    "test_data = HomogenNumericTable(digits.data[-20:, :].astype(dtype=np.double))\n",
    "test_labels = HomogenNumericTable(digits.target[-20:, np.newaxis].astype(dtype=np.double))"
   ]
  },
  {
   "cell_type": "markdown",
   "metadata": {},
   "source": [
    "## Create a multi-class classifier based on SVM\n",
    "\n",
    "The definition of `MulticlassSVM` is in file [svm_multi_class.py](svm_multi_class.py). \n",
    "There are 10 digits, 0 to 9. So the number of classes is 10."
   ]
  },
  {
   "cell_type": "code",
   "execution_count": 6,
   "metadata": {
    "collapsed": true
   },
   "outputs": [],
   "source": [
    "nclasses = 10\n",
    "classifier = MulticlassSVM(nclasses)"
   ]
  },
  {
   "cell_type": "markdown",
   "metadata": {},
   "source": [
    "Set parameters for SVM training and prediction algorithms"
   ]
  },
  {
   "cell_type": "code",
   "execution_count": 7,
   "metadata": {
    "collapsed": false
   },
   "outputs": [],
   "source": [
    "classifier.setSVMParams(\n",
    "        cachesize = 32000000,\n",
    "        kernel = linear.Batch_Float64DefaultDense(),\n",
    "        shrinking = True)"
   ]
  },
  {
   "cell_type": "markdown",
   "metadata": {},
   "source": [
    "## Train a model"
   ]
  },
  {
   "cell_type": "code",
   "execution_count": 8,
   "metadata": {
    "collapsed": false
   },
   "outputs": [
    {
     "name": "stdout",
     "output_type": "stream",
     "text": [
      "Wall time: 28 ms\n"
     ]
    }
   ],
   "source": [
    "%time svm_model = classifier.train(training_data, training_labels)"
   ]
  },
  {
   "cell_type": "markdown",
   "metadata": {},
   "source": [
    "## Test the model\n",
    "Test the model using the other half of the data. Then, we check the performance of the model by computing quality metrics, and print the average accuracy. There are many aspects in a multi-class classifier's quality metrics. But \"average accuracy\" is probably the most commonly used inidcator. For other metrics that we can query, see definition of `QualityMetrics` in file [quality_metrics.py](quality_metrics.py)."
   ]
  },
  {
   "cell_type": "code",
   "execution_count": 9,
   "metadata": {
    "collapsed": false
   },
   "outputs": [
    {
     "name": "stdout",
     "output_type": "stream",
     "text": [
      "Wall time: 2 ms\n",
      "Average accuracy: 100.00%\n"
     ]
    }
   ],
   "source": [
    "%time predictions = classifier.predict(svm_model, test_data)\n",
    "\n",
    "quality = QualityMetrics(test_labels, predictions, nclasses)\n",
    "print('Average accuracy: {:.2f}%'.format(\n",
    "    quality.getMulticlassAverageAccuracy()*100))"
   ]
  },
  {
   "cell_type": "markdown",
   "metadata": {},
   "source": [
    "## Visualize predictions"
   ]
  },
  {
   "cell_type": "code",
   "execution_count": 10,
   "metadata": {
    "collapsed": false
   },
   "outputs": [
    {
     "data": {
      "image/png": "[encoded data removed]",
      "text/plain": [
       "<matplotlib.figure.Figure at 0x4b81bbfe10>"
      ]
     },
     "metadata": {
      "image/png": {
       "height": 351,
       "width": 463
      }
     },
     "output_type": "display_data"
    }
   ],
   "source": [
    "images_and_labels = list(zip(digits.images[-20:], getArrayFromNT(predictions)))\n",
    "for index, (image, label) in enumerate(images_and_labels):\n",
    "    plt.subplot(4, 5, index + 1)\n",
    "    plt.axis('off')\n",
    "    plt.imshow(image, cmap=plt.cm.gray_r, interpolation='nearest')\n",
    "    plt.title('Training: %i' % label)"
   ]
  },
  {
   "cell_type": "markdown",
   "metadata": {},
   "source": [
    "## Compare with scikit-learn SVC\n",
    "As a comparison, below is a solution that uses Support Vector Classifier from scikit-learn [`sklearn.svm.svc`](http://scikit-learn.org/stable/modules/generated/sklearn.svm.SVC.html)."
   ]
  },
  {
   "cell_type": "code",
   "execution_count": 11,
   "metadata": {
    "collapsed": false
   },
   "outputs": [],
   "source": [
    "from sklearn import svm, metrics"
   ]
  },
  {
   "cell_type": "code",
   "execution_count": 15,
   "metadata": {
    "collapsed": false
   },
   "outputs": [
    {
     "name": "stdout",
     "output_type": "stream",
     "text": [
      "Wall time: 75 ms\n"
     ]
    },
    {
     "data": {
      "text/plain": [
       "SVC(C=1.0, cache_size=200, class_weight=None, coef0=0.0,\n",
       "  decision_function_shape=None, degree=3, gamma='auto', kernel='linear',\n",
       "  max_iter=-1, probability=False, random_state=None, shrinking=True,\n",
       "  tol=0.001, verbose=False)"
      ]
     },
     "execution_count": 15,
     "metadata": {},
     "output_type": "execute_result"
    }
   ],
   "source": [
    "sklearn_classifier = svm.SVC(kernel='linear')\n",
    "%time sklearn_classifier.fit(digits.data[:-20, :], digits.target[:-20])"
   ]
  },
  {
   "cell_type": "code",
   "execution_count": 16,
   "metadata": {
    "collapsed": false
   },
   "outputs": [
    {
     "name": "stdout",
     "output_type": "stream",
     "text": [
      "Wall time: 2 ms\n"
     ]
    }
   ],
   "source": [
    "%time sklearn_predictions = sklearn_classifier.predict(digits.data[-20:, :])"
   ]
  },
  {
   "cell_type": "code",
   "execution_count": 17,
   "metadata": {
    "collapsed": false
   },
   "outputs": [
    {
     "name": "stdout",
     "output_type": "stream",
     "text": [
      "Average accuracy: 100.00%\n"
     ]
    }
   ],
   "source": [
    "sklearn_quality = metrics.accuracy_score(digits.target[-20:, np.newaxis], sklearn_predictions)\n",
    "print('Average accuracy: {:.2f}%'.format(sklearn_quality*100))"
   ]
  }
 ],
 "metadata": {
  "kernelspec": {
   "display_name": "Python 3",
   "language": "python",
   "name": "python3"
  },
  "language_info": {
   "codemirror_mode": {
    "name": "ipython",
    "version": 3
   },
   "file_extension": ".py",
   "mimetype": "text/x-python",
   "name": "python",
   "nbconvert_exporter": "python",
   "pygments_lexer": "ipython3",
   "version": "3.5.2"
  }
 },
 "nbformat": 4,
 "nbformat_minor": 0
}
